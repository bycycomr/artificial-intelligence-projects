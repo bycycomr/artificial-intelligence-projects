{
 "cells": [
  {
   "cell_type": "code",
   "execution_count": 1,
   "id": "1c54b996",
   "metadata": {},
   "outputs": [
    {
     "name": "stdout",
     "output_type": "stream",
     "text": [
      "WARNING:tensorflow:From C:\\Users\\omer\\anaconda3\\Lib\\site-packages\\keras\\src\\losses.py:2976: The name tf.losses.sparse_softmax_cross_entropy is deprecated. Please use tf.compat.v1.losses.sparse_softmax_cross_entropy instead.\n",
      "\n"
     ]
    },
    {
     "ename": "AttributeError",
     "evalue": "module 'inspect' has no attribute 'ArgSpec'",
     "output_type": "error",
     "traceback": [
      "\u001b[1;31m---------------------------------------------------------------------------\u001b[0m",
      "\u001b[1;31mAttributeError\u001b[0m                            Traceback (most recent call last)",
      "Cell \u001b[1;32mIn[1], line 3\u001b[0m\n\u001b[0;32m      1\u001b[0m \u001b[38;5;28;01mimport\u001b[39;00m \u001b[38;5;21;01mcv2\u001b[39;00m\n\u001b[0;32m      2\u001b[0m \u001b[38;5;28;01mimport\u001b[39;00m \u001b[38;5;21;01mnumpy\u001b[39;00m \u001b[38;5;28;01mas\u001b[39;00m \u001b[38;5;21;01mnp\u001b[39;00m\n\u001b[1;32m----> 3\u001b[0m \u001b[38;5;28;01mfrom\u001b[39;00m \u001b[38;5;21;01mtensorflow\u001b[39;00m\u001b[38;5;21;01m.\u001b[39;00m\u001b[38;5;21;01mkeras\u001b[39;00m\u001b[38;5;21;01m.\u001b[39;00m\u001b[38;5;21;01mmodels\u001b[39;00m \u001b[38;5;28;01mimport\u001b[39;00m load_model\n\u001b[0;32m      4\u001b[0m \u001b[38;5;28;01mfrom\u001b[39;00m \u001b[38;5;21;01mtensorflow\u001b[39;00m\u001b[38;5;21;01m.\u001b[39;00m\u001b[38;5;21;01mkeras\u001b[39;00m\u001b[38;5;21;01m.\u001b[39;00m\u001b[38;5;21;01mpreprocessing\u001b[39;00m \u001b[38;5;28;01mimport\u001b[39;00m image\n\u001b[0;32m      5\u001b[0m \u001b[38;5;28;01mimport\u001b[39;00m \u001b[38;5;21;01mh5py\u001b[39;00m \n",
      "File \u001b[1;32m~\\anaconda3\\Lib\\site-packages\\keras\\api\\_v2\\keras\\__init__.py:10\u001b[0m\n\u001b[0;32m      6\u001b[0m \u001b[38;5;28;01mfrom\u001b[39;00m \u001b[38;5;21;01m__future__\u001b[39;00m \u001b[38;5;28;01mimport\u001b[39;00m print_function \u001b[38;5;28;01mas\u001b[39;00m _print_function\n\u001b[0;32m      8\u001b[0m \u001b[38;5;28;01mimport\u001b[39;00m \u001b[38;5;21;01msys\u001b[39;00m \u001b[38;5;28;01mas\u001b[39;00m \u001b[38;5;21;01m_sys\u001b[39;00m\n\u001b[1;32m---> 10\u001b[0m \u001b[38;5;28;01mfrom\u001b[39;00m \u001b[38;5;21;01mkeras\u001b[39;00m \u001b[38;5;28;01mimport\u001b[39;00m __version__\n\u001b[0;32m     11\u001b[0m \u001b[38;5;28;01mfrom\u001b[39;00m \u001b[38;5;21;01mkeras\u001b[39;00m\u001b[38;5;21;01m.\u001b[39;00m\u001b[38;5;21;01mapi\u001b[39;00m\u001b[38;5;21;01m.\u001b[39;00m\u001b[38;5;21;01m_v2\u001b[39;00m\u001b[38;5;21;01m.\u001b[39;00m\u001b[38;5;21;01mkeras\u001b[39;00m \u001b[38;5;28;01mimport\u001b[39;00m __internal__\n\u001b[0;32m     12\u001b[0m \u001b[38;5;28;01mfrom\u001b[39;00m \u001b[38;5;21;01mkeras\u001b[39;00m\u001b[38;5;21;01m.\u001b[39;00m\u001b[38;5;21;01mapi\u001b[39;00m\u001b[38;5;21;01m.\u001b[39;00m\u001b[38;5;21;01m_v2\u001b[39;00m\u001b[38;5;21;01m.\u001b[39;00m\u001b[38;5;21;01mkeras\u001b[39;00m \u001b[38;5;28;01mimport\u001b[39;00m activations\n",
      "File \u001b[1;32m~\\anaconda3\\Lib\\site-packages\\keras\\__init__.py:27\u001b[0m\n\u001b[0;32m     24\u001b[0m \u001b[38;5;66;03m# See b/110718070#comment18 for more details about this import.\u001b[39;00m\n\u001b[0;32m     25\u001b[0m \u001b[38;5;28;01mfrom\u001b[39;00m \u001b[38;5;21;01mkeras\u001b[39;00m \u001b[38;5;28;01mimport\u001b[39;00m models\n\u001b[1;32m---> 27\u001b[0m \u001b[38;5;28;01mfrom\u001b[39;00m \u001b[38;5;21;01mkeras\u001b[39;00m\u001b[38;5;21;01m.\u001b[39;00m\u001b[38;5;21;01mengine\u001b[39;00m\u001b[38;5;21;01m.\u001b[39;00m\u001b[38;5;21;01minput_layer\u001b[39;00m \u001b[38;5;28;01mimport\u001b[39;00m Input\n\u001b[0;32m     28\u001b[0m \u001b[38;5;28;01mfrom\u001b[39;00m \u001b[38;5;21;01mkeras\u001b[39;00m\u001b[38;5;21;01m.\u001b[39;00m\u001b[38;5;21;01mengine\u001b[39;00m\u001b[38;5;21;01m.\u001b[39;00m\u001b[38;5;21;01msequential\u001b[39;00m \u001b[38;5;28;01mimport\u001b[39;00m Sequential\n\u001b[0;32m     29\u001b[0m \u001b[38;5;28;01mfrom\u001b[39;00m \u001b[38;5;21;01mkeras\u001b[39;00m\u001b[38;5;21;01m.\u001b[39;00m\u001b[38;5;21;01mengine\u001b[39;00m\u001b[38;5;21;01m.\u001b[39;00m\u001b[38;5;21;01mtraining\u001b[39;00m \u001b[38;5;28;01mimport\u001b[39;00m Model\n",
      "File \u001b[1;32m~\\anaconda3\\Lib\\site-packages\\keras\\engine\\input_layer.py:21\u001b[0m\n\u001b[0;32m     19\u001b[0m \u001b[38;5;28;01mfrom\u001b[39;00m \u001b[38;5;21;01mkeras\u001b[39;00m \u001b[38;5;28;01mimport\u001b[39;00m backend\n\u001b[0;32m     20\u001b[0m \u001b[38;5;28;01mfrom\u001b[39;00m \u001b[38;5;21;01mkeras\u001b[39;00m\u001b[38;5;21;01m.\u001b[39;00m\u001b[38;5;21;01mdistribute\u001b[39;00m \u001b[38;5;28;01mimport\u001b[39;00m distributed_training_utils\n\u001b[1;32m---> 21\u001b[0m \u001b[38;5;28;01mfrom\u001b[39;00m \u001b[38;5;21;01mkeras\u001b[39;00m\u001b[38;5;21;01m.\u001b[39;00m\u001b[38;5;21;01mengine\u001b[39;00m \u001b[38;5;28;01mimport\u001b[39;00m base_layer\n\u001b[0;32m     22\u001b[0m \u001b[38;5;28;01mfrom\u001b[39;00m \u001b[38;5;21;01mkeras\u001b[39;00m\u001b[38;5;21;01m.\u001b[39;00m\u001b[38;5;21;01mengine\u001b[39;00m \u001b[38;5;28;01mimport\u001b[39;00m keras_tensor\n\u001b[0;32m     23\u001b[0m \u001b[38;5;28;01mfrom\u001b[39;00m \u001b[38;5;21;01mkeras\u001b[39;00m\u001b[38;5;21;01m.\u001b[39;00m\u001b[38;5;21;01mengine\u001b[39;00m \u001b[38;5;28;01mimport\u001b[39;00m node \u001b[38;5;28;01mas\u001b[39;00m node_module\n",
      "File \u001b[1;32m~\\anaconda3\\Lib\\site-packages\\keras\\engine\\base_layer.py:33\u001b[0m\n\u001b[0;32m     31\u001b[0m \u001b[38;5;28;01mfrom\u001b[39;00m \u001b[38;5;21;01mkeras\u001b[39;00m \u001b[38;5;28;01mimport\u001b[39;00m backend\n\u001b[0;32m     32\u001b[0m \u001b[38;5;28;01mfrom\u001b[39;00m \u001b[38;5;21;01mkeras\u001b[39;00m \u001b[38;5;28;01mimport\u001b[39;00m constraints\n\u001b[1;32m---> 33\u001b[0m \u001b[38;5;28;01mfrom\u001b[39;00m \u001b[38;5;21;01mkeras\u001b[39;00m \u001b[38;5;28;01mimport\u001b[39;00m initializers\n\u001b[0;32m     34\u001b[0m \u001b[38;5;28;01mfrom\u001b[39;00m \u001b[38;5;21;01mkeras\u001b[39;00m \u001b[38;5;28;01mimport\u001b[39;00m regularizers\n\u001b[0;32m     35\u001b[0m \u001b[38;5;28;01mfrom\u001b[39;00m \u001b[38;5;21;01mkeras\u001b[39;00m\u001b[38;5;21;01m.\u001b[39;00m\u001b[38;5;21;01mengine\u001b[39;00m \u001b[38;5;28;01mimport\u001b[39;00m base_layer_utils\n",
      "File \u001b[1;32m~\\anaconda3\\Lib\\site-packages\\keras\\initializers\\__init__.py:24\u001b[0m\n\u001b[0;32m     22\u001b[0m \u001b[38;5;28;01mfrom\u001b[39;00m \u001b[38;5;21;01mkeras\u001b[39;00m\u001b[38;5;21;01m.\u001b[39;00m\u001b[38;5;21;01minitializers\u001b[39;00m \u001b[38;5;28;01mimport\u001b[39;00m initializers_v1\n\u001b[0;32m     23\u001b[0m \u001b[38;5;28;01mfrom\u001b[39;00m \u001b[38;5;21;01mkeras\u001b[39;00m\u001b[38;5;21;01m.\u001b[39;00m\u001b[38;5;21;01minitializers\u001b[39;00m \u001b[38;5;28;01mimport\u001b[39;00m initializers_v2\n\u001b[1;32m---> 24\u001b[0m \u001b[38;5;28;01mfrom\u001b[39;00m \u001b[38;5;21;01mkeras\u001b[39;00m\u001b[38;5;21;01m.\u001b[39;00m\u001b[38;5;21;01mutils\u001b[39;00m \u001b[38;5;28;01mimport\u001b[39;00m generic_utils\n\u001b[0;32m     25\u001b[0m \u001b[38;5;28;01mfrom\u001b[39;00m \u001b[38;5;21;01mkeras\u001b[39;00m\u001b[38;5;21;01m.\u001b[39;00m\u001b[38;5;21;01mutils\u001b[39;00m \u001b[38;5;28;01mimport\u001b[39;00m tf_inspect \u001b[38;5;28;01mas\u001b[39;00m inspect\n\u001b[0;32m     26\u001b[0m \u001b[38;5;28;01mfrom\u001b[39;00m \u001b[38;5;21;01mtensorflow\u001b[39;00m\u001b[38;5;21;01m.\u001b[39;00m\u001b[38;5;21;01mpython\u001b[39;00m\u001b[38;5;21;01m.\u001b[39;00m\u001b[38;5;21;01mops\u001b[39;00m \u001b[38;5;28;01mimport\u001b[39;00m init_ops\n",
      "File \u001b[1;32m~\\anaconda3\\Lib\\site-packages\\keras\\utils\\generic_utils.py:35\u001b[0m\n\u001b[0;32m     32\u001b[0m \u001b[38;5;28;01mimport\u001b[39;00m \u001b[38;5;21;01mnumpy\u001b[39;00m \u001b[38;5;28;01mas\u001b[39;00m \u001b[38;5;21;01mnp\u001b[39;00m\n\u001b[0;32m     34\u001b[0m \u001b[38;5;28;01mfrom\u001b[39;00m \u001b[38;5;21;01mkeras\u001b[39;00m\u001b[38;5;21;01m.\u001b[39;00m\u001b[38;5;21;01mutils\u001b[39;00m \u001b[38;5;28;01mimport\u001b[39;00m tf_contextlib\n\u001b[1;32m---> 35\u001b[0m \u001b[38;5;28;01mfrom\u001b[39;00m \u001b[38;5;21;01mkeras\u001b[39;00m\u001b[38;5;21;01m.\u001b[39;00m\u001b[38;5;21;01mutils\u001b[39;00m \u001b[38;5;28;01mimport\u001b[39;00m tf_inspect\n\u001b[0;32m     36\u001b[0m \u001b[38;5;28;01mfrom\u001b[39;00m \u001b[38;5;21;01mtensorflow\u001b[39;00m\u001b[38;5;21;01m.\u001b[39;00m\u001b[38;5;21;01mpython\u001b[39;00m\u001b[38;5;21;01m.\u001b[39;00m\u001b[38;5;21;01mutil\u001b[39;00m\u001b[38;5;21;01m.\u001b[39;00m\u001b[38;5;21;01mtf_export\u001b[39;00m \u001b[38;5;28;01mimport\u001b[39;00m keras_export\n\u001b[0;32m     38\u001b[0m _GLOBAL_CUSTOM_OBJECTS \u001b[38;5;241m=\u001b[39m {}\n",
      "File \u001b[1;32m~\\anaconda3\\Lib\\site-packages\\keras\\utils\\tf_inspect.py:23\u001b[0m\n\u001b[0;32m     20\u001b[0m \u001b[38;5;28;01mimport\u001b[39;00m \u001b[38;5;21;01mfunctools\u001b[39;00m\n\u001b[0;32m     21\u001b[0m \u001b[38;5;28;01mimport\u001b[39;00m \u001b[38;5;21;01minspect\u001b[39;00m \u001b[38;5;28;01mas\u001b[39;00m \u001b[38;5;21;01m_inspect\u001b[39;00m\n\u001b[1;32m---> 23\u001b[0m ArgSpec \u001b[38;5;241m=\u001b[39m _inspect\u001b[38;5;241m.\u001b[39mArgSpec\n\u001b[0;32m     26\u001b[0m \u001b[38;5;28;01mif\u001b[39;00m \u001b[38;5;28mhasattr\u001b[39m(_inspect, \u001b[38;5;124m'\u001b[39m\u001b[38;5;124mFullArgSpec\u001b[39m\u001b[38;5;124m'\u001b[39m):\n\u001b[0;32m     27\u001b[0m   FullArgSpec \u001b[38;5;241m=\u001b[39m _inspect\u001b[38;5;241m.\u001b[39mFullArgSpec  \u001b[38;5;66;03m# pylint: disable=invalid-name\u001b[39;00m\n",
      "\u001b[1;31mAttributeError\u001b[0m: module 'inspect' has no attribute 'ArgSpec'"
     ]
    }
   ],
   "source": [
    "import cv2\n",
    "import numpy as np\n",
    "from tensorflow.keras.models import load_model\n",
    "from tensorflow.keras.preprocessing import image\n",
    "import h5py \n",
    "from tensorflow.keras.applications.inception_v3 import InceptionV3\n",
    "from tensorflow.keras.layers import Dense, GlobalAveragePooling2D, Dropout\n",
    "from tensorflow.keras.models import Model\n",
    "from tensorflow.keras.models import model_from_json\n",
    "from tensorflow.keras.optimizers import SGD"
   ]
  },
  {
   "cell_type": "code",
   "execution_count": 2,
   "id": "21d619ad",
   "metadata": {},
   "outputs": [
    {
     "ename": "NameError",
     "evalue": "name 'InceptionV3' is not defined",
     "output_type": "error",
     "traceback": [
      "\u001b[1;31m---------------------------------------------------------------------------\u001b[0m",
      "\u001b[1;31mNameError\u001b[0m                                 Traceback (most recent call last)",
      "Cell \u001b[1;32mIn[2], line 1\u001b[0m\n\u001b[1;32m----> 1\u001b[0m inc_model \u001b[38;5;241m=\u001b[39m InceptionV3(weights\u001b[38;5;241m=\u001b[39m\u001b[38;5;28;01mNone\u001b[39;00m, include_top\u001b[38;5;241m=\u001b[39m\u001b[38;5;28;01mFalse\u001b[39;00m, input_shape\u001b[38;5;241m=\u001b[39m(\u001b[38;5;241m218\u001b[39m, \u001b[38;5;241m178\u001b[39m, \u001b[38;5;241m3\u001b[39m))\n\u001b[0;32m      3\u001b[0m \u001b[38;5;66;03m# Adding custom layers\u001b[39;00m\n\u001b[0;32m      4\u001b[0m x \u001b[38;5;241m=\u001b[39m inc_model\u001b[38;5;241m.\u001b[39moutput\n",
      "\u001b[1;31mNameError\u001b[0m: name 'InceptionV3' is not defined"
     ]
    }
   ],
   "source": [
    "inc_model = InceptionV3(weights=None, include_top=False, input_shape=(218, 178, 3))\n",
    "\n",
    "# Adding custom layers\n",
    "x = inc_model.output\n",
    "x = GlobalAveragePooling2D()(x)\n",
    "x = Dense(1024, activation=\"relu\")(x)\n",
    "x = Dropout(0.5)(x)\n",
    "x = Dense(512, activation=\"relu\")(x)\n",
    "predictions = Dense(2, activation=\"softmax\")(x)\n",
    "\n",
    "# Final model\n",
    "model = Model(inputs=inc_model.input, outputs=predictions)"
   ]
  },
  {
   "cell_type": "code",
   "execution_count": 3,
   "id": "1532fad4",
   "metadata": {},
   "outputs": [],
   "source": [
    "def preprocess_frame(frame):\n",
    "    \"\"\"Resize and preprocess the frame.\"\"\"\n",
    "    # Resize frame to match model's expected input size\n",
    "    resized_frame = cv2.resize(frame, (178, 218))\n",
    "\n",
    "    # Convert to array and normalize\n",
    "    frame_array = np.array(resized_frame, dtype=np.float32)\n",
    "    preprocessed_frame = preprocess_input(frame_array)  # preprocess as per InceptionV3 requirements\n",
    "\n",
    "    # Expand dimensions to match model input\n",
    "    expanded_frame = np.expand_dims(preprocessed_frame, axis=0)\n",
    "    return expanded_frame"
   ]
  },
  {
   "cell_type": "code",
   "execution_count": 4,
   "id": "6d6bbebd",
   "metadata": {},
   "outputs": [
    {
     "ename": "NameError",
     "evalue": "name 'model' is not defined",
     "output_type": "error",
     "traceback": [
      "\u001b[1;31m---------------------------------------------------------------------------\u001b[0m",
      "\u001b[1;31mNameError\u001b[0m                                 Traceback (most recent call last)",
      "Cell \u001b[1;32mIn[4], line 1\u001b[0m\n\u001b[1;32m----> 1\u001b[0m model\u001b[38;5;241m.\u001b[39mload_weights(\u001b[38;5;124m'\u001b[39m\u001b[38;5;124mweights.best.inc.male.hdf5\u001b[39m\u001b[38;5;124m'\u001b[39m)\n",
      "\u001b[1;31mNameError\u001b[0m: name 'model' is not defined"
     ]
    }
   ],
   "source": [
    "model.load_weights('weights.best.inc.male.hdf5')"
   ]
  },
  {
   "cell_type": "code",
   "execution_count": 5,
   "id": "e48ea375",
   "metadata": {},
   "outputs": [
    {
     "ename": "NameError",
     "evalue": "name 'model' is not defined",
     "output_type": "error",
     "traceback": [
      "\u001b[1;31m---------------------------------------------------------------------------\u001b[0m",
      "\u001b[1;31mNameError\u001b[0m                                 Traceback (most recent call last)",
      "Cell \u001b[1;32mIn[5], line 1\u001b[0m\n\u001b[1;32m----> 1\u001b[0m model\u001b[38;5;241m.\u001b[39mcompile(optimizer\u001b[38;5;241m=\u001b[39mSGD(lr\u001b[38;5;241m=\u001b[39m\u001b[38;5;241m0.0001\u001b[39m, momentum\u001b[38;5;241m=\u001b[39m\u001b[38;5;241m0.9\u001b[39m),\n\u001b[0;32m      2\u001b[0m               loss\u001b[38;5;241m=\u001b[39m\u001b[38;5;124m'\u001b[39m\u001b[38;5;124mcategorical_crossentropy\u001b[39m\u001b[38;5;124m'\u001b[39m,\n\u001b[0;32m      3\u001b[0m               metrics\u001b[38;5;241m=\u001b[39m[\u001b[38;5;124m'\u001b[39m\u001b[38;5;124maccuracy\u001b[39m\u001b[38;5;124m'\u001b[39m])\n",
      "\u001b[1;31mNameError\u001b[0m: name 'model' is not defined"
     ]
    }
   ],
   "source": [
    "model.compile(optimizer=SGD(lr=0.0001, momentum=0.9),\n",
    "              loss='categorical_crossentropy',\n",
    "              metrics=['accuracy'])"
   ]
  },
  {
   "cell_type": "code",
   "execution_count": 6,
   "id": "10024fd1",
   "metadata": {
    "scrolled": true
   },
   "outputs": [
    {
     "ename": "NameError",
     "evalue": "name 'h5py' is not defined",
     "output_type": "error",
     "traceback": [
      "\u001b[1;31m---------------------------------------------------------------------------\u001b[0m",
      "\u001b[1;31mNameError\u001b[0m                                 Traceback (most recent call last)",
      "Cell \u001b[1;32mIn[6], line 3\u001b[0m\n\u001b[0;32m      1\u001b[0m hdf5_file \u001b[38;5;241m=\u001b[39m \u001b[38;5;124m'\u001b[39m\u001b[38;5;124mweights.best.inc.male.hdf5\u001b[39m\u001b[38;5;124m'\u001b[39m\n\u001b[1;32m----> 3\u001b[0m \u001b[38;5;28;01mwith\u001b[39;00m h5py\u001b[38;5;241m.\u001b[39mFile(hdf5_file, \u001b[38;5;124m'\u001b[39m\u001b[38;5;124mr\u001b[39m\u001b[38;5;124m'\u001b[39m) \u001b[38;5;28;01mas\u001b[39;00m f:\n\u001b[0;32m      4\u001b[0m     model\u001b[38;5;241m.\u001b[39mload_weights_from_hdf5_group(f[\u001b[38;5;124m'\u001b[39m\u001b[38;5;124mmodel_weights\u001b[39m\u001b[38;5;124m'\u001b[39m])\n",
      "\u001b[1;31mNameError\u001b[0m: name 'h5py' is not defined"
     ]
    }
   ],
   "source": [
    "hdf5_file = 'weights.best.inc.male.hdf5'\n",
    "\n",
    "with h5py.File(hdf5_file, 'r') as f:\n",
    "    model.load_weights_from_hdf5_group(f['model_weights'])"
   ]
  },
  {
   "cell_type": "code",
   "execution_count": 7,
   "id": "3b6dadc5",
   "metadata": {},
   "outputs": [
    {
     "ename": "NameError",
     "evalue": "name 'preprocess_input' is not defined",
     "output_type": "error",
     "traceback": [
      "\u001b[1;31m---------------------------------------------------------------------------\u001b[0m",
      "\u001b[1;31mNameError\u001b[0m                                 Traceback (most recent call last)",
      "Cell \u001b[1;32mIn[7], line 10\u001b[0m\n\u001b[0;32m      7\u001b[0m     \u001b[38;5;28;01mbreak\u001b[39;00m\n\u001b[0;32m      9\u001b[0m \u001b[38;5;66;03m# Preprocess the frame\u001b[39;00m\n\u001b[1;32m---> 10\u001b[0m processed_frame \u001b[38;5;241m=\u001b[39m preprocess_frame(frame)\n\u001b[0;32m     11\u001b[0m \u001b[38;5;28mprint\u001b[39m(\u001b[38;5;124m\"\u001b[39m\u001b[38;5;124mPROCESED FRAM \u001b[39m\u001b[38;5;124m\"\u001b[39m \u001b[38;5;241m+\u001b[39m processed_frame)\n\u001b[0;32m     12\u001b[0m \u001b[38;5;66;03m# Predict gender\u001b[39;00m\n",
      "Cell \u001b[1;32mIn[3], line 8\u001b[0m, in \u001b[0;36mpreprocess_frame\u001b[1;34m(frame)\u001b[0m\n\u001b[0;32m      6\u001b[0m \u001b[38;5;66;03m# Convert to array and normalize\u001b[39;00m\n\u001b[0;32m      7\u001b[0m frame_array \u001b[38;5;241m=\u001b[39m np\u001b[38;5;241m.\u001b[39marray(resized_frame, dtype\u001b[38;5;241m=\u001b[39mnp\u001b[38;5;241m.\u001b[39mfloat32)\n\u001b[1;32m----> 8\u001b[0m preprocessed_frame \u001b[38;5;241m=\u001b[39m preprocess_input(frame_array)  \u001b[38;5;66;03m# preprocess as per InceptionV3 requirements\u001b[39;00m\n\u001b[0;32m     10\u001b[0m \u001b[38;5;66;03m# Expand dimensions to match model input\u001b[39;00m\n\u001b[0;32m     11\u001b[0m expanded_frame \u001b[38;5;241m=\u001b[39m np\u001b[38;5;241m.\u001b[39mexpand_dims(preprocessed_frame, axis\u001b[38;5;241m=\u001b[39m\u001b[38;5;241m0\u001b[39m)\n",
      "\u001b[1;31mNameError\u001b[0m: name 'preprocess_input' is not defined"
     ]
    }
   ],
   "source": [
    "cap = cv2.VideoCapture(0)\n",
    "\n",
    "while True:\n",
    "    # Capture frame-by-frame\n",
    "    ret, frame = cap.read()\n",
    "    if not ret:\n",
    "        break\n",
    "\n",
    "    # Preprocess the frame\n",
    "    processed_frame = preprocess_frame(frame)\n",
    "    print(\"PROCESED FRAM \" + processed_frame)\n",
    "    # Predict gender\n",
    "    prediction = model.predict(processed_frame)\n",
    "    print(\"PREDİCTİONNNNN FRAM \" + processed_frame)\n",
    "    gender = \"Male\" if np.argmax(prediction) == 1 else \"Female\"\n",
    "\n",
    "    # Display the resulting frame with prediction\n",
    "    cv2.putText(frame, f\"Gender: {gender}\", (50, 50), cv2.FONT_HERSHEY_SIMPLEX, 1, (0, 255, 0), 2)\n",
    "    cv2.imshow('Gender Prediction', frame)\n",
    "\n",
    "   \n"
   ]
  },
  {
   "cell_type": "code",
   "execution_count": null,
   "id": "b025241d",
   "metadata": {},
   "outputs": [],
   "source": []
  },
  {
   "cell_type": "code",
   "execution_count": null,
   "id": "34eeb7a3",
   "metadata": {},
   "outputs": [],
   "source": []
  },
  {
   "cell_type": "code",
   "execution_count": null,
   "id": "c810fc27",
   "metadata": {},
   "outputs": [],
   "source": []
  },
  {
   "cell_type": "code",
   "execution_count": null,
   "id": "2540c962",
   "metadata": {},
   "outputs": [],
   "source": []
  },
  {
   "cell_type": "code",
   "execution_count": null,
   "id": "e18b5405",
   "metadata": {},
   "outputs": [],
   "source": []
  },
  {
   "cell_type": "code",
   "execution_count": 2,
   "id": "5f3091b9",
   "metadata": {},
   "outputs": [
    {
     "ename": "UnicodeDecodeError",
     "evalue": "'utf-8' codec can't decode byte 0xfc in position 32: invalid start byte",
     "output_type": "error",
     "traceback": [
      "\u001b[1;31m---------------------------------------------------------------------------\u001b[0m",
      "\u001b[1;31mUnicodeDecodeError\u001b[0m                        Traceback (most recent call last)",
      "Cell \u001b[1;32mIn[2], line 2\u001b[0m\n\u001b[0;32m      1\u001b[0m \u001b[38;5;66;03m# Load the pre-trained model\u001b[39;00m\n\u001b[1;32m----> 2\u001b[0m model \u001b[38;5;241m=\u001b[39m load_model(\u001b[38;5;124m'\u001b[39m\u001b[38;5;124mweights.best.inc.male.hdf5\u001b[39m\u001b[38;5;124m'\u001b[39m)\n",
      "File \u001b[1;32m~\\anaconda3\\Lib\\site-packages\\keras\\src\\saving\\saving_api.py:262\u001b[0m, in \u001b[0;36mload_model\u001b[1;34m(filepath, custom_objects, compile, safe_mode, **kwargs)\u001b[0m\n\u001b[0;32m    254\u001b[0m     \u001b[38;5;28;01mreturn\u001b[39;00m saving_lib\u001b[38;5;241m.\u001b[39mload_model(\n\u001b[0;32m    255\u001b[0m         filepath,\n\u001b[0;32m    256\u001b[0m         custom_objects\u001b[38;5;241m=\u001b[39mcustom_objects,\n\u001b[0;32m    257\u001b[0m         \u001b[38;5;28mcompile\u001b[39m\u001b[38;5;241m=\u001b[39m\u001b[38;5;28mcompile\u001b[39m,\n\u001b[0;32m    258\u001b[0m         safe_mode\u001b[38;5;241m=\u001b[39msafe_mode,\n\u001b[0;32m    259\u001b[0m     )\n\u001b[0;32m    261\u001b[0m \u001b[38;5;66;03m# Legacy case.\u001b[39;00m\n\u001b[1;32m--> 262\u001b[0m \u001b[38;5;28;01mreturn\u001b[39;00m legacy_sm_saving_lib\u001b[38;5;241m.\u001b[39mload_model(\n\u001b[0;32m    263\u001b[0m     filepath, custom_objects\u001b[38;5;241m=\u001b[39mcustom_objects, \u001b[38;5;28mcompile\u001b[39m\u001b[38;5;241m=\u001b[39m\u001b[38;5;28mcompile\u001b[39m, \u001b[38;5;241m*\u001b[39m\u001b[38;5;241m*\u001b[39mkwargs\n\u001b[0;32m    264\u001b[0m )\n",
      "File \u001b[1;32m~\\anaconda3\\Lib\\site-packages\\keras\\src\\utils\\traceback_utils.py:70\u001b[0m, in \u001b[0;36mfilter_traceback.<locals>.error_handler\u001b[1;34m(*args, **kwargs)\u001b[0m\n\u001b[0;32m     67\u001b[0m     filtered_tb \u001b[38;5;241m=\u001b[39m _process_traceback_frames(e\u001b[38;5;241m.\u001b[39m__traceback__)\n\u001b[0;32m     68\u001b[0m     \u001b[38;5;66;03m# To get the full stack trace, call:\u001b[39;00m\n\u001b[0;32m     69\u001b[0m     \u001b[38;5;66;03m# `tf.debugging.disable_traceback_filtering()`\u001b[39;00m\n\u001b[1;32m---> 70\u001b[0m     \u001b[38;5;28;01mraise\u001b[39;00m e\u001b[38;5;241m.\u001b[39mwith_traceback(filtered_tb) \u001b[38;5;28;01mfrom\u001b[39;00m \u001b[38;5;28;01mNone\u001b[39;00m\n\u001b[0;32m     71\u001b[0m \u001b[38;5;28;01mfinally\u001b[39;00m:\n\u001b[0;32m     72\u001b[0m     \u001b[38;5;28;01mdel\u001b[39;00m filtered_tb\n",
      "File \u001b[1;32m~\\anaconda3\\Lib\\site-packages\\tensorflow\\python\\lib\\io\\file_io.py:703\u001b[0m, in \u001b[0;36mis_directory_v2\u001b[1;34m(path)\u001b[0m\n\u001b[0;32m    694\u001b[0m \u001b[38;5;250m\u001b[39m\u001b[38;5;124;03m\"\"\"Returns whether the path is a directory or not.\u001b[39;00m\n\u001b[0;32m    695\u001b[0m \n\u001b[0;32m    696\u001b[0m \u001b[38;5;124;03mArgs:\u001b[39;00m\n\u001b[1;32m   (...)\u001b[0m\n\u001b[0;32m    700\u001b[0m \u001b[38;5;124;03m  True, if the path is a directory; False otherwise\u001b[39;00m\n\u001b[0;32m    701\u001b[0m \u001b[38;5;124;03m\"\"\"\u001b[39;00m\n\u001b[0;32m    702\u001b[0m \u001b[38;5;28;01mtry\u001b[39;00m:\n\u001b[1;32m--> 703\u001b[0m   \u001b[38;5;28;01mreturn\u001b[39;00m _pywrap_file_io\u001b[38;5;241m.\u001b[39mIsDirectory(compat\u001b[38;5;241m.\u001b[39mpath_to_bytes(path))\n\u001b[0;32m    704\u001b[0m \u001b[38;5;28;01mexcept\u001b[39;00m errors\u001b[38;5;241m.\u001b[39mOpError:\n\u001b[0;32m    705\u001b[0m   \u001b[38;5;28;01mreturn\u001b[39;00m \u001b[38;5;28;01mFalse\u001b[39;00m\n",
      "\u001b[1;31mUnicodeDecodeError\u001b[0m: 'utf-8' codec can't decode byte 0xfc in position 32: invalid start byte"
     ]
    }
   ],
   "source": [
    "\n",
    "# Load the pre-trained model\n",
    "model = load_model('weights.best.inc.male.hdf5')\n"
   ]
  },
  {
   "cell_type": "code",
   "execution_count": null,
   "id": "52afd19b",
   "metadata": {},
   "outputs": [],
   "source": [
    "\n",
    "# Start video capture\n",
    "cap = cv2.VideoCapture(0)\n",
    "\n",
    "while True:\n",
    "    # Capture frame-by-frame\n",
    "    ret, frame = cap.read()\n",
    "\n",
    "    if not ret:\n",
    "        break\n",
    "\n",
    "    # Resize the frame to fit the model input\n",
    "    resized_frame = cv2.resize(frame, (178, 218))\n",
    "\n",
    "    # Normalize the pixel values\n",
    "    normalized_frame = resized_frame.astype('float32') / 255.0\n",
    "\n",
    "    # Expand dimensions to match the model's input shape\n",
    "    expanded_frame = np.expand_dims(normalized_frame, axis=0)\n",
    "\n",
    "    # Predict gender\n",
    "    prediction = model.predict(expanded_frame)\n",
    "    gender = \"Male\" if np.argmax(prediction) == 1 else \"Female\"\n",
    "\n",
    "    # Display the resulting frame with prediction\n",
    "    cv2.putText(frame, gender, (50, 50), cv2.FONT_HERSHEY_SIMPLEX, 1, (255, 0, 0), 2)\n",
    "    cv2.imshow('Gender Prediction', frame)\n",
    "\n",
    "    # Break the loop with 'q'\n",
    "    if cv2.waitKey(1) & 0xFF == ord('q'):\n",
    "        break\n",
    "\n",
    "# When everything done, release the capture\n",
    "cap.release()\n",
    "cv2.destroyAllWindows()\n"
   ]
  },
  {
   "cell_type": "code",
   "execution_count": null,
   "id": "82704a57",
   "metadata": {},
   "outputs": [],
   "source": []
  },
  {
   "cell_type": "code",
   "execution_count": 7,
   "id": "53060fb8",
   "metadata": {},
   "outputs": [],
   "source": [
    "import cv2\n",
    "import numpy as np\n",
    "from tensorflow.keras.applications.inception_v3 import preprocess_input\n",
    "import cv2\n",
    "import numpy as np\n",
    "from tensorflow.keras.models import load_model\n",
    "from tensorflow.keras.preprocessing import image\n",
    "import h5py"
   ]
  },
  {
   "cell_type": "code",
   "execution_count": 8,
   "id": "acd28e75",
   "metadata": {},
   "outputs": [],
   "source": [
    "from tensorflow.keras.applications.inception_v3 import InceptionV3\n",
    "from tensorflow.keras.layers import Dense, GlobalAveragePooling2D, Dropout\n",
    "from tensorflow.keras.models import Model"
   ]
  },
  {
   "cell_type": "code",
   "execution_count": 9,
   "id": "9882e0a5",
   "metadata": {},
   "outputs": [],
   "source": [
    "# Load InceptionV3 Base Model\n",
    "inc_model = InceptionV3(weights=None, include_top=False, input_shape=(218, 178, 3))\n",
    "\n",
    "# Adding custom layers\n",
    "x = inc_model.output\n",
    "x = GlobalAveragePooling2D()(x)\n",
    "x = Dense(1024, activation=\"relu\")(x)\n",
    "x = Dropout(0.5)(x)\n",
    "x = Dense(512, activation=\"relu\")(x)\n",
    "predictions = Dense(2, activation=\"softmax\")(x)"
   ]
  },
  {
   "cell_type": "code",
   "execution_count": 10,
   "id": "41b2937b",
   "metadata": {},
   "outputs": [
    {
     "name": "stderr",
     "output_type": "stream",
     "text": [
      "WARNING:absl:`lr` is deprecated in Keras optimizer, please use `learning_rate` or use the legacy optimizer, e.g.,tf.keras.optimizers.legacy.SGD.\n"
     ]
    }
   ],
   "source": [
    "model = Model(inputs=inc_model.input, outputs=predictions)\n",
    "\n",
    "\n",
    "model.load_weights('weights.best.inc.male.hdf5')\n",
    "\n",
    "\n",
    "\n",
    "from tensorflow.keras.optimizers import SGD\n",
    "\n",
    "model.compile(optimizer=SGD(lr=0.0001, momentum=0.9),\n",
    "              loss='categorical_crossentropy',\n",
    "              metrics=['accuracy'])"
   ]
  },
  {
   "cell_type": "code",
   "execution_count": 11,
   "id": "7505e17d",
   "metadata": {},
   "outputs": [],
   "source": [
    "def preprocess_frame(frame):\n",
    "    \"\"\"Resize and preprocess the frame.\"\"\"\n",
    "    # Resize frame to match model's expected input size\n",
    "    resized_frame = cv2.resize(frame, (178, 218))\n",
    "\n",
    "    # Convert to array and normalize\n",
    "    frame_array = np.array(resized_frame, dtype=np.float32)\n",
    "    preprocessed_frame = preprocess_input(frame_array)  # preprocess as per InceptionV3 requirements\n",
    "\n",
    "    # Expand dimensions to match model input\n",
    "    expanded_frame = np.expand_dims(preprocessed_frame, axis=0)\n",
    "    return expanded_frame"
   ]
  },
  {
   "cell_type": "code",
   "execution_count": 12,
   "id": "7b84aa40",
   "metadata": {},
   "outputs": [
    {
     "name": "stdout",
     "output_type": "stream",
     "text": [
      "1/1 [==============================] - 7s 7s/step\n",
      "PREDICTION [[0.00777964 0.99222034]]\n",
      "1/1 [==============================] - 0s 103ms/step\n",
      "PREDICTION [[0.12404759 0.87595236]]\n",
      "1/1 [==============================] - 0s 98ms/step\n",
      "PREDICTION [[0.03918779 0.96081215]]\n",
      "1/1 [==============================] - 0s 93ms/step\n",
      "PREDICTION [[0.03259878 0.96740127]]\n",
      "1/1 [==============================] - 0s 100ms/step\n",
      "PREDICTION [[0.01742375 0.98257625]]\n",
      "1/1 [==============================] - 0s 90ms/step\n",
      "PREDICTION [[0.01352422 0.98647577]]\n",
      "1/1 [==============================] - 0s 96ms/step\n",
      "PREDICTION [[0.00978392 0.99021614]]\n",
      "1/1 [==============================] - 0s 100ms/step\n",
      "PREDICTION [[0.00399749 0.9960025 ]]\n",
      "1/1 [==============================] - 0s 102ms/step\n",
      "PREDICTION [[0.00709736 0.9929026 ]]\n",
      "1/1 [==============================] - 0s 91ms/step\n",
      "PREDICTION [[0.02635146 0.9736485 ]]\n",
      "1/1 [==============================] - 0s 82ms/step\n",
      "PREDICTION [[0.03507718 0.96492285]]\n",
      "1/1 [==============================] - 0s 90ms/step\n",
      "PREDICTION [[0.01873585 0.9812641 ]]\n",
      "1/1 [==============================] - 0s 94ms/step\n",
      "PREDICTION [[0.01230436 0.9876957 ]]\n",
      "1/1 [==============================] - 0s 95ms/step\n",
      "PREDICTION [[0.04175493 0.9582451 ]]\n",
      "1/1 [==============================] - 0s 90ms/step\n",
      "PREDICTION [[0.1001177  0.89988226]]\n",
      "1/1 [==============================] - 0s 84ms/step\n",
      "PREDICTION [[0.0227223  0.97727776]]\n",
      "1/1 [==============================] - 0s 88ms/step\n",
      "PREDICTION [[0.03367426 0.96632576]]\n",
      "1/1 [==============================] - 0s 93ms/step\n",
      "PREDICTION [[0.09208397 0.907916  ]]\n",
      "1/1 [==============================] - 0s 90ms/step\n",
      "PREDICTION [[0.04469972 0.9553003 ]]\n",
      "1/1 [==============================] - 0s 94ms/step\n",
      "PREDICTION [[0.03512675 0.96487325]]\n",
      "1/1 [==============================] - 0s 95ms/step\n",
      "PREDICTION [[0.06985617 0.93014383]]\n",
      "1/1 [==============================] - 0s 92ms/step\n",
      "PREDICTION [[0.0372435 0.9627565]]\n",
      "1/1 [==============================] - 0s 90ms/step\n",
      "PREDICTION [[0.00924809 0.99075186]]\n",
      "1/1 [==============================] - 0s 93ms/step\n",
      "PREDICTION [[0.02804338 0.9719567 ]]\n",
      "1/1 [==============================] - 0s 83ms/step\n",
      "PREDICTION [[0.00171851 0.9982815 ]]\n",
      "1/1 [==============================] - 0s 79ms/step\n",
      "PREDICTION [[0.02139697 0.97860307]]\n",
      "1/1 [==============================] - 0s 86ms/step\n",
      "PREDICTION [[0.02260141 0.9773985 ]]\n",
      "1/1 [==============================] - 0s 89ms/step\n",
      "PREDICTION [[0.03772734 0.96227264]]\n",
      "1/1 [==============================] - 0s 85ms/step\n",
      "PREDICTION [[0.0959807  0.90401924]]\n",
      "1/1 [==============================] - 0s 84ms/step\n",
      "PREDICTION [[0.1645618 0.8354382]]\n",
      "1/1 [==============================] - 0s 85ms/step\n",
      "PREDICTION [[0.09297646 0.90702355]]\n",
      "1/1 [==============================] - 0s 94ms/step\n",
      "PREDICTION [[0.05699209 0.9430079 ]]\n",
      "1/1 [==============================] - 0s 98ms/step\n",
      "PREDICTION [[0.03786528 0.9621347 ]]\n",
      "1/1 [==============================] - 0s 85ms/step\n",
      "PREDICTION [[0.09489957 0.9051004 ]]\n",
      "1/1 [==============================] - 0s 81ms/step\n",
      "PREDICTION [[0.03539972 0.9646003 ]]\n",
      "1/1 [==============================] - 0s 90ms/step\n",
      "PREDICTION [[0.03064919 0.9693508 ]]\n",
      "1/1 [==============================] - 0s 88ms/step\n",
      "PREDICTION [[0.1198618 0.8801382]]\n",
      "1/1 [==============================] - 0s 90ms/step\n",
      "PREDICTION [[0.03178916 0.9682109 ]]\n",
      "1/1 [==============================] - 0s 95ms/step\n",
      "PREDICTION [[0.04761603 0.95238394]]\n",
      "1/1 [==============================] - 0s 80ms/step\n",
      "PREDICTION [[0.06022713 0.93977284]]\n",
      "1/1 [==============================] - 0s 85ms/step\n",
      "PREDICTION [[0.02343395 0.9765661 ]]\n",
      "1/1 [==============================] - 0s 89ms/step\n",
      "PREDICTION [[0.10927393 0.8907261 ]]\n",
      "1/1 [==============================] - 0s 88ms/step\n",
      "PREDICTION [[0.13832709 0.8616729 ]]\n",
      "1/1 [==============================] - 0s 89ms/step\n",
      "PREDICTION [[0.22040378 0.7795962 ]]\n",
      "1/1 [==============================] - 0s 81ms/step\n",
      "PREDICTION [[0.00271126 0.9972887 ]]\n",
      "1/1 [==============================] - 0s 82ms/step\n",
      "PREDICTION [[0.00842429 0.9915758 ]]\n",
      "1/1 [==============================] - 0s 88ms/step\n",
      "PREDICTION [[0.0354432 0.9645568]]\n",
      "1/1 [==============================] - 0s 81ms/step\n",
      "PREDICTION [[0.00582567 0.9941743 ]]\n",
      "1/1 [==============================] - 0s 85ms/step\n",
      "PREDICTION [[0.0098803 0.9901197]]\n",
      "1/1 [==============================] - 0s 84ms/step\n",
      "PREDICTION [[0.01321721 0.9867828 ]]\n",
      "1/1 [==============================] - 0s 97ms/step\n",
      "PREDICTION [[0.01261691 0.98738307]]\n",
      "1/1 [==============================] - 0s 108ms/step\n",
      "PREDICTION [[0.01504984 0.9849502 ]]\n",
      "1/1 [==============================] - 0s 91ms/step\n",
      "PREDICTION [[0.01505978 0.98494023]]\n",
      "1/1 [==============================] - 0s 84ms/step\n",
      "PREDICTION [[0.02313999 0.97686005]]\n",
      "1/1 [==============================] - 0s 79ms/step\n",
      "PREDICTION [[0.00800741 0.9919926 ]]\n",
      "1/1 [==============================] - 0s 90ms/step\n",
      "PREDICTION [[0.00692499 0.993075  ]]\n",
      "1/1 [==============================] - 0s 86ms/step\n",
      "PREDICTION [[0.00649732 0.9935027 ]]\n",
      "1/1 [==============================] - 0s 83ms/step\n",
      "PREDICTION [[0.01644891 0.9835511 ]]\n",
      "1/1 [==============================] - 0s 83ms/step\n",
      "PREDICTION [[0.0103948 0.9896052]]\n",
      "1/1 [==============================] - 0s 88ms/step\n",
      "PREDICTION [[0.01336862 0.98663133]]\n",
      "1/1 [==============================] - 0s 89ms/step\n",
      "PREDICTION [[0.02878213 0.9712179 ]]\n",
      "1/1 [==============================] - 0s 96ms/step\n",
      "PREDICTION [[0.02802676 0.97197324]]\n",
      "1/1 [==============================] - 0s 96ms/step\n",
      "PREDICTION [[0.03683073 0.9631693 ]]\n",
      "1/1 [==============================] - 0s 91ms/step\n",
      "PREDICTION [[0.0085589  0.99144113]]\n",
      "1/1 [==============================] - 0s 89ms/step\n",
      "PREDICTION [[0.0595234  0.94047654]]\n",
      "1/1 [==============================] - 0s 75ms/step\n",
      "PREDICTION [[0.04363066 0.95636934]]\n",
      "1/1 [==============================] - 0s 82ms/step\n",
      "PREDICTION [[0.10949098 0.890509  ]]\n",
      "1/1 [==============================] - 0s 85ms/step\n",
      "PREDICTION [[0.06853938 0.9314607 ]]\n",
      "1/1 [==============================] - 0s 84ms/step\n",
      "PREDICTION [[0.09747686 0.90252316]]\n",
      "1/1 [==============================] - 0s 81ms/step\n",
      "PREDICTION [[0.14666799 0.85333204]]\n",
      "1/1 [==============================] - 0s 75ms/step\n",
      "PREDICTION [[0.05699734 0.94300264]]\n",
      "1/1 [==============================] - 0s 72ms/step\n",
      "PREDICTION [[0.02385751 0.97614247]]\n",
      "1/1 [==============================] - 0s 80ms/step\n",
      "PREDICTION [[0.18104732 0.8189526 ]]\n",
      "1/1 [==============================] - 0s 82ms/step\n",
      "PREDICTION [[0.15157075 0.8484292 ]]\n",
      "1/1 [==============================] - 0s 87ms/step\n",
      "PREDICTION [[0.10123543 0.89876455]]\n",
      "1/1 [==============================] - 0s 80ms/step\n",
      "PREDICTION [[0.02097527 0.9790247 ]]\n",
      "1/1 [==============================] - 0s 83ms/step\n",
      "PREDICTION [[0.00177211 0.9982279 ]]\n",
      "1/1 [==============================] - 0s 79ms/step\n",
      "PREDICTION [[0.01065291 0.9893471 ]]\n",
      "1/1 [==============================] - 0s 96ms/step\n",
      "PREDICTION [[0.11403032 0.88596964]]\n",
      "1/1 [==============================] - 0s 95ms/step\n",
      "PREDICTION [[0.05174633 0.9482537 ]]\n"
     ]
    }
   ],
   "source": [
    "# Start video capture\n",
    "cap = cv2.VideoCapture(0)\n",
    "\n",
    "while True:\n",
    "    # Capture frame-by-frame\n",
    "    ret, frame = cap.read()\n",
    "    if not ret:\n",
    "        break\n",
    "\n",
    "    # Preprocess the frame\n",
    "    processed_frame = preprocess_frame(frame)\n",
    "\n",
    "    # Predict gender\n",
    "    prediction = model.predict(processed_frame)\n",
    "    print(\"PREDICTION\" , prediction)\n",
    "    gender = \"Male\" if np.argmax(prediction) == 1 else \"Female\"\n",
    "\n",
    "    # Display the resulting frame with prediction\n",
    "    cv2.putText(frame, f\"Gender: {gender}\", (50, 50), cv2.FONT_HERSHEY_SIMPLEX, 1, (0, 255, 0), 2)\n",
    "    cv2.imshow('Gender Prediction', frame)\n",
    "    \n",
    "    # Break the loop with 'q'\n",
    "    if cv2.waitKey(1) & 0xFF == ord('q'):\n",
    "        break"
   ]
  },
  {
   "cell_type": "code",
   "execution_count": null,
   "id": "afc2a0de",
   "metadata": {},
   "outputs": [],
   "source": []
  },
  {
   "cell_type": "code",
   "execution_count": null,
   "id": "ae33b492",
   "metadata": {},
   "outputs": [],
   "source": []
  },
  {
   "cell_type": "code",
   "execution_count": null,
   "id": "f856b7d4",
   "metadata": {},
   "outputs": [],
   "source": []
  },
  {
   "cell_type": "code",
   "execution_count": null,
   "id": "e978012f",
   "metadata": {},
   "outputs": [],
   "source": [
    "import cv2\n",
    "import numpy as np\n",
    "from tensorflow.keras.applications.inception_v3 import preprocess_input\n",
    "import cv2\n",
    "import numpy as np\n",
    "from tensorflow.keras.models import load_model\n",
    "from tensorflow.keras.preprocessing import image\n",
    "import h5py\n",
    "\n",
    "\n",
    "from tensorflow.keras.applications.inception_v3 import InceptionV3\n",
    "from tensorflow.keras.layers import Dense, GlobalAveragePooling2D, Dropout\n",
    "from tensorflow.keras.models import Model\n",
    "\n",
    "# Load InceptionV3 Base Model\n",
    "inc_model = InceptionV3(weights=None, include_top=False, input_shape=(218, 178, 3))\n",
    "\n",
    "# Adding custom layers\n",
    "x = inc_model.output\n",
    "x = GlobalAveragePooling2D()(x)\n",
    "x = Dense(1024, activation=\"relu\")(x)\n",
    "x = Dropout(0.5)(x)\n",
    "x = Dense(512, activation=\"relu\")(x)\n",
    "predictions = Dense(2, activation=\"softmax\")(x)\n",
    "\n",
    "# Final model\n",
    "model = Model(inputs=inc_model.input, outputs=predictions)\n",
    "\n",
    "\n",
    "model.load_weights('weights.best.inc.male.hdf5')\n",
    "\n",
    "\n",
    "\n",
    "from tensorflow.keras.optimizers import SGD\n",
    "\n",
    "model.compile(optimizer=SGD(lr=0.0001, momentum=0.9),\n",
    "              loss='categorical_crossentropy',\n",
    "              metrics=['accuracy'])\n",
    "\n",
    "\n",
    "# Assuming 'model' is already created and loaded with weights as per previous stepsq\n",
    "\n",
    "def preprocess_frame(frame):\n",
    "    \"\"\"Resize and preprocess the frame.\"\"\"\n",
    "    # Resize frame to match model's expected input size\n",
    "    resized_frame = cv2.resize(frame, (178, 218))\n",
    "\n",
    "    # Convert to array and normalize\n",
    "    frame_array = np.array(resized_frame, dtype=np.float32)\n",
    "    preprocessed_frame = preprocess_input(frame_array)  # preprocess as per InceptionV3 requirements\n",
    "\n",
    "    # Expand dimensions to match model input\n",
    "    expanded_frame = np.expand_dims(preprocessed_frame, axis=0)\n",
    "    return expanded_frame\n",
    "\n",
    "# Start video capture\n",
    "cap = cv2.VideoCapture(0)\n",
    "\n",
    "while True:\n",
    "    # Capture frame-by-frame\n",
    "    ret, frame = cap.read()\n",
    "    if not ret:\n",
    "        break\n",
    "\n",
    "    # Preprocess the frame\n",
    "    processed_frame = preprocess_frame(frame)\n",
    "\n",
    "    # Predict gender\n",
    "    prediction = model.predict(processed_frame)\n",
    "    print(\"PREDICTION\" , prediction)\n",
    "    gender = \"Male\" if np.argmax(prediction) == 1 else \"Female\"\n",
    "\n",
    "    # Display the resulting frame with prediction\n",
    "    cv2.putText(frame, f\"Gender: {gender}\", (50, 50), cv2.FONT_HERSHEY_SIMPLEX, 1, (0, 255, 0), 2)\n",
    "    cv2.imshow('Gender Prediction', frame)\n",
    "    \n",
    "    # Break the loop with 'q'\n",
    "    if cv2.waitKey(1) & 0xFF == ord('q'):\n",
    "        break\n",
    "        \n",
    "\n",
    "        \n",
    "        \n",
    "   \n"
   ]
  },
  {
   "cell_type": "code",
   "execution_count": null,
   "id": "4f251b04",
   "metadata": {},
   "outputs": [],
   "source": []
  }
 ],
 "metadata": {
  "kernelspec": {
   "display_name": "Python 3 (ipykernel)",
   "language": "python",
   "name": "python3"
  },
  "language_info": {
   "codemirror_mode": {
    "name": "ipython",
    "version": 3
   },
   "file_extension": ".py",
   "mimetype": "text/x-python",
   "name": "python",
   "nbconvert_exporter": "python",
   "pygments_lexer": "ipython3",
   "version": "3.11.5"
  }
 },
 "nbformat": 4,
 "nbformat_minor": 5
}
